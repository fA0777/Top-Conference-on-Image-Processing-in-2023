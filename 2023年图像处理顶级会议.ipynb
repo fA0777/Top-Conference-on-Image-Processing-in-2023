{
 "cells": [
  {
   "cell_type": "markdown",
   "metadata": {},
   "source": [
    "# 2023年图像处理顶级会议"
   ]
  },
  {
   "cell_type": "markdown",
   "metadata": {},
   "source": [
    "## CVPR"
   ]
  },
  {
   "cell_type": "markdown",
   "metadata": {},
   "source": [
    "### denoising"
   ]
  },
  {
   "cell_type": "markdown",
   "metadata": {},
   "source": [
    "#### DeSTSeg: Segmentation Guided Denoising Student-Teacher for Anomaly Detection\n",
    "Xuan Zhang, Shiyu Li, Xi Li, Ping Huang, Jiulong Shan, Ting Chen"
   ]
  },
  {
   "cell_type": "markdown",
   "metadata": {},
   "source": [
    "#### ERNIE-ViLG 20: Improving Text-to-Image Diffusion Model With Knowledge-Enhanced Mixture-of-Denoising-Experts\n",
    "Zhida Feng, Zhenyu Zhang, Xintong Yu, Yewei Fang, Lanxin Li, Xuyi Chen, Yuxiang Lu, Jiaxiang Liu, Weichong Yin, Shikun Feng, Yu Sun, Li Chen, Hao Tian, Hua Wu, Haifeng Wang"
   ]
  },
  {
   "cell_type": "markdown",
   "metadata": {},
   "source": [
    "#### LG-BPN: Local and Global Blind-Patch Network for Self-Supervised Real-World Denoising\n",
    "Zichun Wang, Ying Fu, Ji Liu, Yulun Zhang"
   ]
  },
  {
   "cell_type": "markdown",
   "metadata": {},
   "source": [
    "#### Efficient View Synthesis and 3D-Based Multi-Frame Denoising With Multiplane Feature Representations\n",
    "Thomas Tanay, Aleš Leonardis, Matteo Maggioni"
   ]
  },
  {
   "cell_type": "markdown",
   "metadata": {},
   "source": [
    "#### Mofusion: A Framework for Denoising-Diffusion-Based Motion Synthesis\n",
    "Rishabh Dabral, Muhammad Hamza Mughal, Vladislav Golyanik, Christian Theobalt"
   ]
  },
  {
   "cell_type": "markdown",
   "metadata": {},
   "source": [
    "#### DiffusioNeRF: Regularizing Neural Radiance Fields With Denoising Diffusion Models\n",
    "Jamie Wynn, Daniyar Turmukhambetov"
   ]
  },
  {
   "cell_type": "markdown",
   "metadata": {},
   "source": [
    "#### Person Image Synthesis via Denoising Diffusion Model\n",
    "Ankan Kumar Bhunia, Salman Khan, Hisham Cholakkal, Rao Muhammad Anwer, Jorma Laaksonen, Mubarak Shah, Fahad Shahbaz Khan"
   ]
  },
  {
   "cell_type": "markdown",
   "metadata": {},
   "source": [
    "#### Spectral Enhanced Rectangle Transformer for Hyperspectral Image Denoising\n",
    "Miaoyu Li, Ji Liu, Ying Fu, Yulun Zhang, Dejing Dou"
   ]
  },
  {
   "cell_type": "markdown",
   "metadata": {},
   "source": [
    "#### Structure Aggregation for Cross-Spectral Stereo Image Guided Denoising\n",
    "Zehua Sheng, Zhu Yu, Xiongwei Liu, Si-Yuan Cao, Yuqi Liu, Hui-Liang Shen, Huaqi Zhang"
   ]
  },
  {
   "cell_type": "markdown",
   "metadata": {},
   "source": [
    "#### HouseDiffusion: Vector Floorplan Generation via a Diffusion Model With Discrete and Continuous Denoising\n",
    "Mohammad Amin Shabani, Sepidehsadat Hosseini, Yasutaka Furukawa"
   ]
  },
  {
   "cell_type": "markdown",
   "metadata": {},
   "source": [
    "#### Zero-Shot Noise2Noise: Efficient Image Denoising Without Any Data\n",
    "Youssef Mansour, Reinhard Heckel"
   ]
  },
  {
   "cell_type": "markdown",
   "metadata": {},
   "source": [
    "#### Joint HDR Denoising and Fusion: A Real-World Mobile HDR Image Dataset\n",
    "Shuaizheng Liu, Xindong Zhang, Lingchen Sun, Zhetong Liang, Hui Zeng, Lei Zhang"
   ]
  },
  {
   "cell_type": "markdown",
   "metadata": {},
   "source": [
    "#### Spatially Adaptive Self-Supervised Learning for Real-World Image Denoising\n",
    "Junyi Li, Zhilu Zhang, Xiaoyu Liu, Chaoyu Feng, Xiaotao Wang, Lei Lei, Wangmeng Zuo"
   ]
  },
  {
   "cell_type": "markdown",
   "metadata": {},
   "source": [
    "#### Real-Time Controllable Denoising for Image and Video\n",
    "Zhaoyang Zhang, Yitong Jiang, Wenqi Shao, Xiaogang Wang, Ping Luo, Kaimo Lin, Jinwei Gu"
   ]
  },
  {
   "cell_type": "markdown",
   "metadata": {},
   "source": [
    "#### Masked Image Training for Generalizable Deep Image Denoising\n",
    "Haoyu Chen, Jinjin Gu, Yihao Liu, Salma Abdel Magid, Chao Dong, Qiong Wang, Hanspeter Pfister, Lei Zhu"
   ]
  },
  {
   "cell_type": "markdown",
   "metadata": {},
   "source": [
    "#### Patch-Craft Self-Supervised Training for Correlated Image Denoising\n",
    "Gregory Vaksman, Michael Elad"
   ]
  },
  {
   "cell_type": "markdown",
   "metadata": {},
   "source": [
    "#### Polarized Color Image Denoising\n",
    "Zhuoxiao Li, Haiyang Jiang, Mingdeng Cao, Yinqiang Zheng"
   ]
  },
  {
   "cell_type": "markdown",
   "metadata": {},
   "source": [
    "### super resolution"
   ]
  },
  {
   "cell_type": "markdown",
   "metadata": {},
   "source": [
    "#### ResFormer: Scaling ViTs With Multi-Resolution Training\n",
    "Rui Tian, Zuxuan Wu, Qi Dai, Han Hu, Yu Qiao, Yu-Gang Jiang"
   ]
  },
  {
   "cell_type": "markdown",
   "metadata": {},
   "source": [
    "#### Ultra-High Resolution Segmentation With Ultra-Rich Context: A Novel Benchmark\n",
    "Deyi Ji, Feng Zhao, Hongtao Lu, Mingyuan Tao, Jieping Ye"
   ]
  },
  {
   "cell_type": "markdown",
   "metadata": {},
   "source": [
    "#### Towards High-Quality and Efficient Video Super-Resolution via Spatial-Temporal Data Overfitting\n",
    "Gen Li, Jie Ji, Minghai Qin, Wei Niu, Bin Ren, Fatemeh Afghah, Linke Guo, Xiaolong Ma"
   ]
  },
  {
   "cell_type": "markdown",
   "metadata": {},
   "source": [
    "#### Spectral Bayesian Uncertainty for Image Super-Resolution\n",
    "Tao Liu, Jun Cheng, Shan Tan"
   ]
  },
  {
   "cell_type": "markdown",
   "metadata": {},
   "source": [
    "#### High-Fidelity 3D Human Digitization From Single 2K Resolution Images\n",
    "Sang-Hun Han, Min-Gyu Park, Ju Hong Yoon, Ju-Mi Kang, Young-Jae Park, Hae-Gon Jeon"
   ]
  },
  {
   "cell_type": "markdown",
   "metadata": {},
   "source": [
    "#### Automatic High Resolution Wire Segmentation and Removal\n",
    "Mang Tik Chiu, Xuaner Zhang, Zijun Wei, Yuqian Zhou, Eli Shechtman, Connelly Barnes, Zhe Lin, Florian Kainz, Sohrab Amirghodsi, Humphrey Shi"
   ]
  },
  {
   "cell_type": "markdown",
   "metadata": {},
   "source": [
    "#### RefSR-NeRF: Towards High Fidelity and Super Resolution View Synthesis\n",
    "Xudong Huang, Wei Li, Jie Hu, Hanting Chen, Yunhe Wang"
   ]
  },
  {
   "cell_type": "markdown",
   "metadata": {},
   "source": [
    "#### Self-Supervised Super-Plane for Neural 3D Reconstruction\n",
    "Botao Ye, Sifei Liu, Xueting Li, Ming-Hsuan Yang"
   ]
  },
  {
   "cell_type": "markdown",
   "metadata": {},
   "source": [
    "#### Cross-Guided Optimization of Radiance Fields With Multi-View Image Super-Resolution for High-Resolution Novel View Synthesis\n",
    "Youngho Yoon, Kuk-Jin Yoon"
   ]
  },
  {
   "cell_type": "markdown",
   "metadata": {},
   "source": [
    "#### Compression-Aware Video Super-Resolution\n",
    "Yingwei Wang, Takashi Isobe, Xu Jia, Xin Tao, Huchuan Lu, Yu-Wing Tai"
   ]
  },
  {
   "cell_type": "markdown",
   "metadata": {},
   "source": [
    "#### Guided Depth Super-Resolution by Deep Anisotropic Diffusion\n",
    "Nando Metzger, Rodrigo Caye Daudt, Konrad Schindler"
   ]
  },
  {
   "cell_type": "markdown",
   "metadata": {},
   "source": [
    "#### Recognizability Embedding Enhancement for Very Low-Resolution Face Recognition and Quality Estimation\n",
    "Jacky Chen Long Chai, Tiong-Sik Ng, Cheng-Yaw Low, Jaewoo Park, Andrew Beng Jin Teoh"
   ]
  },
  {
   "cell_type": "markdown",
   "metadata": {},
   "source": [
    "#### CutMIB: Boosting Light Field Super-Resolution via Multi-View Image Blending\n",
    "Zeyu Xiao, Yutong Liu, Ruisheng Gao, Zhiwei Xiong"
   ]
  },
  {
   "cell_type": "markdown",
   "metadata": {},
   "source": [
    "#### Spring: A High-Resolution High-Detail Dataset and Benchmark for Scene Flow, Optical Flow and Stereo\n",
    "Lukas Mehl, Jenny Schmalfuss, Azin Jahedi, Yaroslava Nalivayko, Andrés Bruhn"
   ]
  },
  {
   "cell_type": "markdown",
   "metadata": {},
   "source": [
    "#### MAESTER: Masked Autoencoder Guided Segmentation at Pixel Resolution for Accurate, Self-Supervised Subcellular Structure Recognition\n",
    "Ronald Xie, Kuan Pang, Gary D. Bader, Bo Wang"
   ]
  },
  {
   "cell_type": "markdown",
   "metadata": {},
   "source": [
    "#### Image Super-Resolution Using T-Tetromino Pixels\n",
    "Simon Grosche, Andy Regensky, Jürgen Seiler, André Kaup"
   ]
  },
  {
   "cell_type": "markdown",
   "metadata": {},
   "source": [
    "#### Toward Accurate Post-Training Quantization for Image Super Resolution\n",
    "Zhijun Tu, Jie Hu, Hanting Chen, Yunhe Wang"
   ]
  },
  {
   "cell_type": "markdown",
   "metadata": {},
   "source": [
    "#### Implicit Diffusion Models for Continuous Super-Resolution\n",
    "Sicheng Gao, Xuhui Liu, Bohan Zeng, Sheng Xu, Yanjing Li, Xiaoyan Luo, Jianzhuang Liu, Xiantong Zhen, Baochang Zhang"
   ]
  },
  {
   "cell_type": "markdown",
   "metadata": {},
   "source": [
    "#### Correspondence Transformers With Asymmetric Feature Learning and Matching Flow Super-Resolution\n",
    "Yixuan Sun, Dongyang Zhao, Zhangyue Yin, Yiwen Huang, Tao Gui, Wenqiang Zhang, Weifeng Ge"
   ]
  },
  {
   "cell_type": "markdown",
   "metadata": {},
   "source": [
    "#### UMat: Uncertainty-Aware Single Image High Resolution Material Capture\n",
    "Carlos Rodriguez-Pardo, Henar Domínguez-Elvira, David Pascual-Hernández, Elena Garces"
   ]
  },
  {
   "cell_type": "markdown",
   "metadata": {},
   "source": [
    "#### Rethinking Image Super Resolution From Long-Tailed Distribution Learning Perspective\n",
    "Yuanbiao Gou, Peng Hu, Jiancheng Lv, Hongyuan Zhu, Xi Peng"
   ]
  },
  {
   "cell_type": "markdown",
   "metadata": {},
   "source": [
    "#### Azimuth Super-Resolution for FMCW Radar in Autonomous Driving\n",
    "Yu-Jhe Li, Shawn Hunt, Jinhyung Park, Matthew O’Toole, Kris Kitani"
   ]
  },
  {
   "cell_type": "markdown",
   "metadata": {},
   "source": [
    "#### Magic3D: High-Resolution Text-to-3D Content Creation\n",
    "Chen-Hsuan Lin, Jun Gao, Luming Tang, Towaki Takikawa, Xiaohui Zeng, Xun Huang, Karsten Kreis, Sanja Fidler, Ming-Yu Liu, Tsung-Yi Lin"
   ]
  },
  {
   "cell_type": "markdown",
   "metadata": {},
   "source": [
    "#### Spatial-Frequency Mutual Learning for Face Super-Resolution\n",
    "Chenyang Wang, Junjun Jiang, Zhiwei Zhong, Xianming Liu"
   ]
  },
  {
   "cell_type": "markdown",
   "metadata": {},
   "source": [
    "#### Super-CLEVR: A Virtual Benchmark To Diagnose Domain Robustness in Visual Reasoning\n",
    "Zhuowan Li, Xingrui Wang, Elias Stengel-Eskin, Adam Kortylewski, Wufei Ma, Benjamin Van Durme, Alan L. Yuille"
   ]
  },
  {
   "cell_type": "markdown",
   "metadata": {},
   "source": [
    "#### B-Spline Texture Coefficients Estimator for Screen Content Image Super-Resolution\n",
    "Byeonghyun Pak, Jaewon Lee, Kyong Hwan Jin"
   ]
  },
  {
   "cell_type": "markdown",
   "metadata": {},
   "source": [
    "#### CABM: Content-Aware Bit Mapping for Single Image Super-Resolution Network With Large Input\n",
    "Senmao Tian, Ming Lu, Jiaming Liu, Yandong Guo, Yurong Chen, Shunli Zhang"
   ]
  },
  {
   "cell_type": "markdown",
   "metadata": {},
   "source": [
    "#### Bi-Directional Feature Fusion Generative Adversarial Network for Ultra-High Resolution Pathological Image Virtual Re-Staining\n",
    "Kexin Sun, Zhineng Chen, Gongwei Wang, Jun Liu, Xiongjun Ye, Yu-Gang Jiang"
   ]
  },
  {
   "cell_type": "markdown",
   "metadata": {},
   "source": [
    "#### Memory-Friendly Scalable Super-Resolution via Rewinding Lottery Ticket Hypothesis\n",
    "Jin Lin, Xiaotong Luo, Ming Hong, Yanyun Qu, Yuan Xie, Zongze Wu"
   ]
  },
  {
   "cell_type": "markdown",
   "metadata": {},
   "source": [
    "#### Structured Sparsity Learning for Efficient Video Super-Resolution\n",
    "Bin Xia, Jingwen He, Yulun Zhang, Yitong Wang, Yapeng Tian, Wenming Yang, Luc Van Gool"
   ]
  },
  {
   "cell_type": "markdown",
   "metadata": {},
   "source": [
    "#### Omni Aggregation Networks for Lightweight Image Super-Resolution\n",
    "Hang Wang, Xuanhong Chen, Bingbing Ni, Yutian Liu, Jinfan Liu"
   ]
  },
  {
   "cell_type": "markdown",
   "metadata": {},
   "source": [
    "#### OSRT: Omnidirectional Image Super-Resolution With Distortion-Aware Transformer\n",
    "Fanghua Yu, Xintao Wang, Mingdeng Cao, Gen Li, Ying Shan, Chao Dong"
   ]
  },
  {
   "cell_type": "markdown",
   "metadata": {},
   "source": [
    "#### SuperDisco: Super-Class Discovery Improves Visual Recognition for the Long-Tail\n",
    "Yingjun Du, Jiayi Shen, Xiantong Zhen, Cees G. M. Snoek"
   ]
  },
  {
   "cell_type": "markdown",
   "metadata": {},
   "source": [
    "#### Human Guided Ground-Truth Generation for Realistic Image Super-Resolution\n",
    "Du Chen, Jie Liang, Xindong Zhang, Ming Liu, Hui Zeng, Lei Zhang"
   ]
  },
  {
   "cell_type": "markdown",
   "metadata": {},
   "source": [
    "#### Learning Generative Structure Prior for Blind Text Image Super-Resolution\n",
    "Xiaoming Li, Wangmeng Zuo, Chen Change Loy"
   ]
  },
  {
   "cell_type": "markdown",
   "metadata": {},
   "source": [
    "#### Super-Resolution Neural Operator\n",
    "Min Wei, Xuesong Zhang"
   ]
  },
  {
   "cell_type": "markdown",
   "metadata": {},
   "source": [
    "#### PyramidFlow: High-Resolution Defect Contrastive Localization Using Pyramid Normalizing Flow\n",
    "Jiarui Lei, Xiaobo Hu, Yue Wang, Dong Liu"
   ]
  },
  {
   "cell_type": "markdown",
   "metadata": {},
   "source": [
    "#### OPE-SR: Orthogonal Position Encoding for Designing a Parameter-Free Upsampling Module in Arbitrary-Scale Image Super-Resolution\n",
    "Gaochao Song, Qian Sun, Luo Zhang, Ran Su, Jianfeng Shi, Ying He"
   ]
  },
  {
   "cell_type": "markdown",
   "metadata": {},
   "source": [
    "#### PCT-Net: Full Resolution Image Harmonization Using Pixel-Wise Color Transformations\n",
    "Julian Jorge Andrade Guerreiro, Mitsuru Nakazawa, Björn Stenger"
   ]
  },
  {
   "cell_type": "markdown",
   "metadata": {},
   "source": [
    "#### Equivalent Transformation and Dual Stream Network Construction for Mobile Image Super-Resolution\n",
    "Jiahao Chao, Zhou Zhou, Hongfan Gao, Jiali Gong, Zhengfeng Yang, Zhenbing Zeng, Lydia Dehbi"
   ]
  },
  {
   "cell_type": "markdown",
   "metadata": {},
   "source": [
    "#### High-Resolution Image Reconstruction With Latent Diffusion Models From Human Brain Activity\n",
    "Yu Takagi, Shinji Nishimoto"
   ]
  },
  {
   "cell_type": "markdown",
   "metadata": {},
   "source": [
    "#### Activating More Pixels in Image Super-Resolution Transformer\n",
    "Xiangyu Chen, Xintao Wang, Jiantao Zhou, Yu Qiao, Chao Dong"
   ]
  },
  {
   "cell_type": "markdown",
   "metadata": {},
   "source": [
    "#### Better \"CMOS\" Produces Clearer Images: Learning Space-Variant Blur Estimation for Blind Image Super-Resolution\n",
    "Xuhai Chen, Jiangning Zhang, Chao Xu, Yabiao Wang, Chengjie Wang, Yong Liu"
   ]
  },
  {
   "cell_type": "markdown",
   "metadata": {},
   "source": [
    "#### Ultrahigh Resolution Image/Video Matting With Spatio-Temporal Sparsity\n",
    "Yanan Sun, Chi-Keung Tang, Yu-Wing Tai"
   ]
  },
  {
   "cell_type": "markdown",
   "metadata": {},
   "source": [
    "#### Cascaded Local Implicit Transformer for Arbitrary-Scale Super-Resolution\n",
    "Hao-Wei Chen, Yu-Syuan Xu, Min-Fong Hong, Yi-Min Tsai, Hsien-Kai Kuo, Chun-Yi Lee"
   ]
  },
  {
   "cell_type": "markdown",
   "metadata": {},
   "source": [
    "#### SparseViT: Revisiting Activation Sparsity for Efficient High-Resolution Vision Transformer\n",
    "Xuanyao Chen, Zhijian Liu, Haotian Tang, Li Yi, Hang Zhao, Song Han"
   ]
  },
  {
   "cell_type": "markdown",
   "metadata": {},
   "source": [
    "#### Deep Arbitrary-Scale Image Super-Resolution via Scale-Equivariance Pursuit\n",
    "Xiaohang Wang, Xuanhong Chen, Bingbing Ni, Hang Wang, Zhengyan Tong, Yutian Liu"
   ]
  },
  {
   "cell_type": "markdown",
   "metadata": {},
   "source": [
    "#### N-Gram in Swin Transformers for Efficient Lightweight Image Super-Resolution\n",
    "Haram Choi, Jeongmin Lee, Jihoon Yang"
   ]
  },
  {
   "cell_type": "markdown",
   "metadata": {},
   "source": [
    "#### Perception-Oriented Single Image Super-Resolution Using Optimal Objective Estimation\n",
    "Seung Ho Park, Young Su Moon, Nam Ik Cho"
   ]
  },
  {
   "cell_type": "markdown",
   "metadata": {},
   "source": [
    "#### Learning Spatial-Temporal Implicit Neural Representations for Event-Guided Video Super-Resolution\n",
    "Yunfan Lu, Zipeng Wang, Minjie Liu, Hongjian Wang, Lin Wang"
   ]
  },
  {
   "cell_type": "markdown",
   "metadata": {},
   "source": [
    "#### Toward Stable, Interpretable, and Lightweight Hyperspectral Super-Resolution\n",
    "Wen-jin Guo, Weiying Xie, Kai Jiang, Yunsong Li, Jie Lei, Leyuan Fang"
   ]
  },
  {
   "cell_type": "markdown",
   "metadata": {},
   "source": [
    "#### CiaoSR: Continuous Implicit Attention-in-Attention Network for Arbitrary-Scale Image Super-Resolution\n",
    "Jiezhang Cao, Qin Wang, Yongqin Xian, Yawei Li, Bingbing Ni, Zhiming Pi, Kai Zhang, Yulun Zhang, Radu Timofte, Luc Van Gool"
   ]
  },
  {
   "cell_type": "markdown",
   "metadata": {},
   "source": [
    "#### Gated Multi-Resolution Transfer Network for Burst Restoration and Enhancement\n",
    "Nancy Mehta, Akshay Dudhane, Subrahmanyam Murala, Syed Waqas Zamir, Salman Khan, Fahad Shahbaz Khan"
   ]
  },
  {
   "cell_type": "markdown",
   "metadata": {},
   "source": [
    "#### Consistent Direct Time-of-Flight Video Depth Super-Resolution\n",
    "Zhanghao Sun, Wei Ye, Jinhui Xiong, Gyeongmin Choe, Jialiang Wang, Shuochen Su, Rakesh Ranjan"
   ]
  },
  {
   "cell_type": "markdown",
   "metadata": {},
   "source": [
    "#### Local Implicit Normalizing Flow for Arbitrary-Scale Image Super-Resolution\n",
    "Jie-En Yao, Li-Yuan Tsao, Yi-Chen Lo, Roy Tseng, Chia-Che Chang, Chun-Yi Lee"
   ]
  },
  {
   "cell_type": "markdown",
   "metadata": {},
   "source": [
    "#### Align Your Latents: High-Resolution Video Synthesis With Latent Diffusion Models\n",
    "Andreas Blattmann, Robin Rombach, Huan Ling, Tim Dockhorn, Seung Wook Kim, Sanja Fidler, Karsten Kreis"
   ]
  },
  {
   "cell_type": "markdown",
   "metadata": {},
   "source": [
    "#### Zero-Shot Dual-Lens Super-Resolution\n",
    "Ruikang Xu, Mingde Yao, Zhiwei Xiong "
   ]
  },
  {
   "cell_type": "markdown",
   "metadata": {},
   "source": [
    "### dehazing "
   ]
  },
  {
   "cell_type": "markdown",
   "metadata": {},
   "source": [
    "####  Curricular Contrastive Regularization for Physics-Aware Single Image Dehazing\n",
    "Yu Zheng, Jiahui Zhan, Shengfeng He, Junyu Dong, Yong Du"
   ]
  },
  {
   "cell_type": "markdown",
   "metadata": {},
   "source": [
    "####  Video Dehazing via a Multi-Range Temporal Alignment Network With Physical Prior\n",
    "Jiaqi Xu, Xiaowei Hu, Lei Zhu, Qi Dou, Jifeng Dai, Yu Qiao, Pheng-Ann Heng"
   ]
  },
  {
   "cell_type": "markdown",
   "metadata": {},
   "source": [
    "#### RIDCP: Revitalizing Real Image Dehazing via High-Quality Codebook Priors\n",
    "Rui-Qi Wu, Zheng-Peng Duan, Chun-Le Guo, Zhi Chai, Chongyi Li "
   ]
  },
  {
   "cell_type": "markdown",
   "metadata": {},
   "source": [
    "### deblurring"
   ]
  },
  {
   "cell_type": "markdown",
   "metadata": {},
   "source": [
    "#### Self-Supervised Non-Uniform Kernel Estimation With Flow-Based Motion Prior for Blind Image Deblurring\n",
    "Zhenxuan Fang, Fangfang Wu, Weisheng Dong, Xin Li, Jinjian Wu, Guangming Shi"
   ]
  },
  {
   "cell_type": "markdown",
   "metadata": {},
   "source": [
    "#### Efficient Frequency Domain-Based Transformers for High-Quality Image Deblurring\n",
    "Lingshun Kong, Jiangxin Dong, Jianjun Ge, Mingqiang Li, Jinshan Pan"
   ]
  },
  {
   "cell_type": "markdown",
   "metadata": {},
   "source": [
    "#### Uncertainty-Aware Unsupervised Image Deblurring With Deep Residual Prior\n",
    "Xiaole Tang, Xile Zhao, Jun Liu, Jianli Wang, Yuchun Miao, Tieyong Zeng"
   ]
  },
  {
   "cell_type": "markdown",
   "metadata": {},
   "source": [
    "#### Joint Video Multi-Frame Interpolation and Deblurring Under Unknown Exposure Time\n",
    "Wei Shang, Dongwei Ren, Yi Yang, Hongzhi Zhang, Kede Ma, Wangmeng Zuo"
   ]
  },
  {
   "cell_type": "markdown",
   "metadata": {},
   "source": [
    "#### Event-Based Frame Interpolation With Ad-Hoc Deblurring\n",
    "Lei Sun, Christos Sakaridis, Jingyun Liang, Peng Sun, Jiezhang Cao, Kai Zhang, Qi Jiang, Kaiwei Wang, Luc Van Gool "
   ]
  },
  {
   "cell_type": "markdown",
   "metadata": {},
   "source": [
    "#### K3DN: Disparity-Aware Kernel Estimation for Dual-Pixel Defocus Deblurring\n",
    "Yan Yang, Liyuan Pan, Liu Liu, Miaomiao Liu "
   ]
  },
  {
   "cell_type": "markdown",
   "metadata": {},
   "source": [
    "#### Deep Discriminative Spatial and Temporal Network for Efficient Video Deblurring\n",
    "Jinshan Pan, Boming Xu, Jiangxin Dong, Jianjun Ge, Jinhui Tang"
   ]
  },
  {
   "cell_type": "markdown",
   "metadata": {},
   "source": [
    "#### Neumann Network With Recursive Kernels for Single Image Defocus Deblurring\n",
    "Yuhui Quan, Zicong Wu, Hui Ji"
   ]
  },
  {
   "cell_type": "markdown",
   "metadata": {},
   "source": [
    "#### Self-Supervised Blind Motion Deblurring With Deep Expectation Maximization\n",
    "Ji Li, Weixi Wang, Yuesong Nan, Hui Ji"
   ]
  },
  {
   "cell_type": "markdown",
   "metadata": {},
   "source": [
    "## ICCV"
   ]
  },
  {
   "cell_type": "markdown",
   "metadata": {},
   "source": [
    "### denoising "
   ]
  },
  {
   "cell_type": "markdown",
   "metadata": {},
   "source": [
    "#### RED-PSM: Regularization by Denoising of Partially Separable Models for Dynamic Imaging\n",
    "Berk Iskender, Marc L. Klasky, Yoram Bresler "
   ]
  },
  {
   "cell_type": "markdown",
   "metadata": {},
   "source": [
    "#### DiffTAD: Temporal Action Detection with Proposal Denoising Diffusion\n",
    "Sauradip Nag, Xiatian Zhu, Jiankang Deng, Yi-Zhe Song, Tao Xiang"
   ]
  },
  {
   "cell_type": "markdown",
   "metadata": {},
   "source": [
    "#### Score Priors Guided Deep Variational Inference for Unsupervised Real-World Single Image Denoising\n",
    "Jun Cheng, Tao Liu, Shan Tan"
   ]
  },
  {
   "cell_type": "markdown",
   "metadata": {},
   "source": [
    "#### Lighting Every Darkness in Two Pairs: A Calibration-Free Pipeline for RAW Denoising\n",
    "Xin Jin, Jia-Wen Xiao, Ling-Hao Han, Chunle Guo, Ruixun Zhang, Xialei Liu, Chongyi Li"
   ]
  },
  {
   "cell_type": "markdown",
   "metadata": {},
   "source": [
    "#### Iterative Denoiser and Noise Estimator for Self-Supervised Image Denoising\n",
    "Yunhao Zou, Chenggang Yan, Ying Fu "
   ]
  },
  {
   "cell_type": "markdown",
   "metadata": {},
   "source": [
    "#### Noise2Info: Noisy Image to Information of Noise for Self-Supervised Image Denoising\n",
    "Jiachuan Wang, Shimin Di, Lei Chen, Charles Wang Wai Ng "
   ]
  },
  {
   "cell_type": "markdown",
   "metadata": {},
   "source": [
    "#### Random Sub-Samples Generation for Self-Supervised Real Image Denoising\n",
    "Yizhong Pan, Xiao Liu, Xiangyu Liao, Yuanzhouhan Cao, Chao Ren"
   ]
  },
  {
   "cell_type": "markdown",
   "metadata": {},
   "source": [
    "#### Locating Noise is Halfway Denoising for Semi-Supervised Segmentation\n",
    "Yan Fang, Feng Zhu, Bowen Cheng, Luoqi Liu, Yao Zhao, Yunchao Wei"
   ]
  },
  {
   "cell_type": "markdown",
   "metadata": {},
   "source": [
    "#### Denoising Diffusion Autoencoders are Unified Self-supervised Learners\n",
    "Weilai Xiang, Hongyu Yang, Di Huang, Yunhong Wang"
   ]
  },
  {
   "cell_type": "markdown",
   "metadata": {},
   "source": [
    "#### Monocular 3D Object Detection with Bounding Box Denoising in 3D by Perceiver\n",
    "Xianpeng Liu, Ce Zheng, Kelvin B Cheng, Nan Xue, Guo-Jun Qi, Tianfu Wu"
   ]
  },
  {
   "cell_type": "markdown",
   "metadata": {},
   "source": [
    "#### DDS2M: Self-Supervised Denoising Diffusion Spatio-Spectral Model for Hyperspectral Image Restoration\n",
    "Yuchun Miao, Lefei Zhang, Liangpei Zhang, Dacheng Tao"
   ]
  },
  {
   "cell_type": "markdown",
   "metadata": {},
   "source": [
    "####  Delta Denoising Score\n",
    "Amir Hertz, Kfir Aberman, Daniel Cohen-Or"
   ]
  },
  {
   "cell_type": "markdown",
   "metadata": {},
   "source": [
    "#### Hybrid Spectral Denoising Transformer with Guided Attention\n",
    "Zeqiang Lai, Chenggang Yan, Ying Fu"
   ]
  },
  {
   "cell_type": "markdown",
   "metadata": {},
   "source": [
    "#### DDFM: Denoising Diffusion Model for Multi-Modality Image Fusion\n",
    "Zixiang Zhao, Haowen Bai, Yuanzhi Zhu, Jiangshe Zhang, Shuang Xu, Yulun Zhang, Kai Zhang, Deyu Meng, Radu Timofte, Luc Van Gool"
   ]
  },
  {
   "cell_type": "markdown",
   "metadata": {},
   "source": [
    "#### The Devil is in the Upsampling: Architectural Decisions Made Simpler for Denoising with Deep Image Prior\n",
    "Yilin Liu, Jiang Li, Yunkui Pang, Dong Nie, Pew-Thian Yap"
   ]
  },
  {
   "cell_type": "markdown",
   "metadata": {},
   "source": [
    "#### Unsupervised Image Denoising in Real-World Scenarios via Self-Collaboration Parallel Generative Adversarial Branches\n",
    "Xin Lin, Chao Ren, Xiao Liu, Jie Huang, Yinjie Lei"
   ]
  },
  {
   "cell_type": "markdown",
   "metadata": {},
   "source": [
    "#### Self-supervised Image Denoising with Downsampled Invariance Loss and Conditional Blind-Spot Network\n",
    "Yeong Il Jang, Keuntek Lee, Gu Yong Park, Seyun Kim, Nam Ik Cho"
   ]
  },
  {
   "cell_type": "markdown",
   "metadata": {},
   "source": [
    "#### Multi-view Self-supervised Disentanglement for General Image Denoising\n",
    "Hao Chen, Chenyuan Qu, Yu Zhang, Chen Chen, Jianbo Jiao"
   ]
  },
  {
   "cell_type": "markdown",
   "metadata": {},
   "source": [
    "### dehazing"
   ]
  },
  {
   "cell_type": "markdown",
   "metadata": {},
   "source": [
    "#### MB-TaylorFormer: Multi-Branch Efficient Transformer Expanded by Taylor Formula for Image Dehazing\n",
    "Yuwei Qiu, Kaihao Zhang, Chenxi Wang, Wenhan Luo, Hongdong Li, Zhi Jin "
   ]
  },
  {
   "cell_type": "markdown",
   "metadata": {},
   "source": [
    "### deblurring"
   ]
  },
  {
   "cell_type": "markdown",
   "metadata": {},
   "source": [
    "#### Exploring Temporal Frequency Spectrum in Deep Video Deblurring\n",
    "Qi Zhu, Man Zhou, Naishan Zheng, Chongyi Li, Jie Huang, Feng Zhao "
   ]
  },
  {
   "cell_type": "markdown",
   "metadata": {},
   "source": [
    "#### Non-Coaxial Event-Guided Motion Deblurring with Spatial Alignment\n",
    "Hoonhee Cho, Yuhwan Jeong, Taewoo Kim, Kuk-Jin Yoon"
   ]
  },
  {
   "cell_type": "markdown",
   "metadata": {},
   "source": [
    "#### Multiscale Structure Guided Diffusion for Image Deblurring\n",
    "Mengwei Ren, Mauricio Delbracio, Hossein Talebi, Guido Gerig, Peyman Milanfar "
   ]
  },
  {
   "cell_type": "markdown",
   "metadata": {},
   "source": [
    "#### Multi-Scale Residual Low-Pass Filter Network for Image Deblurring\n",
    "Jiangxin Dong, Jinshan Pan, Zhongbao Yang, Jinhui Tang"
   ]
  },
  {
   "cell_type": "markdown",
   "metadata": {},
   "source": [
    "#### Deep Feature Deblurring Diffusion for Detecting Out-of-Distribution Objects\n",
    "Aming Wu, Da Chen, Cheng Deng"
   ]
  },
  {
   "cell_type": "markdown",
   "metadata": {},
   "source": [
    "#### Single Image Defocus Deblurring via Implicit Neural Inverse Kernels\n",
    "Yuhui Quan, Xin Yao, Hui Ji"
   ]
  },
  {
   "cell_type": "markdown",
   "metadata": {},
   "source": [
    "#### Generalizing Event-Based Motion Deblurring in Real-World Scenarios\n",
    "Xiang Zhang, Lei Yu, Wen Yang, Jianzhuang Liu, Gui-Song Xia"
   ]
  },
  {
   "cell_type": "markdown",
   "metadata": {},
   "source": [
    "#### Single Image Deblurring with Row-dependent Blur Magnitude\n",
    "Xiang Ji, Zhixiang Wang, Shin'ichi Satoh, Yinqiang Zheng "
   ]
  },
  {
   "cell_type": "markdown",
   "metadata": {},
   "source": [
    "## ICIP"
   ]
  },
  {
   "cell_type": "markdown",
   "metadata": {},
   "source": [
    "### denoising"
   ]
  },
  {
   "cell_type": "markdown",
   "metadata": {},
   "source": [
    "#### JPEG Information Regularized Deep Image Prior for Denoising\n",
    "Tsukasa Takagi;Shinya Ishizaki;Shin-ichi Maeda"
   ]
  },
  {
   "cell_type": "markdown",
   "metadata": {},
   "source": [
    "#### Learning Raw Image Denoising Using a Parametric Color Image Model\n",
    "Raphaël Achddou;Yann Gousseau;SaÏd Ladjal"
   ]
  },
  {
   "cell_type": "markdown",
   "metadata": {},
   "source": [
    "#### Pushing the Limits of the Wiener Filter in Image Denoising\n",
    "Clément Bled;François Pitié"
   ]
  },
  {
   "cell_type": "markdown",
   "metadata": {},
   "source": [
    "#### Retinex-based Image Denoising / Contrast Enhancement Using Gradient Graph Laplacian Regularizer\n",
    "Yeganeh Gharedaghi;Gene Cheung;Xianming Liu"
   ]
  },
  {
   "cell_type": "markdown",
   "metadata": {},
   "source": [
    "#### Lightweight Network Towards Real-Time Image Denoising On Mobile Devices\n",
    "Zhuoqun Liu;Meiguang Jin;Ying Chen;Huaida Liu;Canqian Yang;Hongkai Xiong"
   ]
  },
  {
   "cell_type": "markdown",
   "metadata": {},
   "source": [
    "#### Point Cloud Denoising Via Momentum Ascent in Gradient Fields\n",
    "Yaping Zhao;Haitian Zheng;Zhongrui Wang;Jiebo Luo;Edmund Y. Lam"
   ]
  },
  {
   "cell_type": "markdown",
   "metadata": {},
   "source": [
    "#### Event-Based Camera Simulation Using Monte Carlo Path Tracing with Adaptive Denoising\n",
    "Yuta Tsuji;Tatsuya Yatagawa;Hiroyuki Kubo;Shigeo Morishima"
   ]
  },
  {
   "cell_type": "markdown",
   "metadata": {},
   "source": [
    "#### Weighted Anisotropic–Isotropic Total Variation for Poisson Denoising\n",
    "Kevin Bui;Yifei Lou;Fredrick Park;Jack Xin"
   ]
  },
  {
   "cell_type": "markdown",
   "metadata": {},
   "source": [
    "### super resolution"
   ]
  },
  {
   "cell_type": "markdown",
   "metadata": {},
   "source": [
    "#### CDPMSR: Conditional Diffusion Probabilistic Models for Single Image Super-Resolution\n",
    "Axi Niu;Kang Zhang;Trung X. Pham;Jinqiu Sun;Yu Zhu;In So Kweon;Yanning Zhang"
   ]
  },
  {
   "cell_type": "markdown",
   "metadata": {},
   "source": [
    "#### Soft-IntroVAE for Continuous Latent Space Image Super-Resolution\n",
    "Zhi-Song Liu;Zijia Wang;Zhen Jia"
   ]
  },
  {
   "cell_type": "markdown",
   "metadata": {},
   "source": [
    "#### LSR: A Light-Weight Super-Resolution Method\n",
    "Wei Wang;Xuejing Lei;Yueru Chen;Ming-Sui Lee;C.-C. Jay Kuo"
   ]
  },
  {
   "cell_type": "markdown",
   "metadata": {},
   "source": [
    "#### Super-Resolution of BVOC Maps by Adapting Deep Learning Methods\n",
    "Antonio Giganti;Sara Mandelli;Paolo Bestagini;Marco Marcon;Stefano Tubaro"
   ]
  },
  {
   "cell_type": "markdown",
   "metadata": {},
   "source": [
    "### deblurring"
   ]
  },
  {
   "cell_type": "markdown",
   "metadata": {},
   "source": [
    "#### A Convergent Neural Network for Non-Blind Image Deblurring\n",
    "Yanan Zhao;Yuelong Li;Haichuan Zhang;Vishal Monga;Yonina C. Eldar"
   ]
  },
  {
   "cell_type": "markdown",
   "metadata": {},
   "source": [
    "#### Task-Adaptive Feature Matching Loss for Image Deblurring\n",
    "Chiao-Chang Chang;Bo-Cheng Yang;Yi-Ting Liu;Jun-Cheng Chen;I-Hong Jhuo;Yen-Yu Lin"
   ]
  }
 ],
 "metadata": {
  "kernelspec": {
   "display_name": "Python 3",
   "language": "python",
   "name": "python3"
  },
  "language_info": {
   "codemirror_mode": {
    "name": "ipython",
    "version": 3
   },
   "file_extension": ".py",
   "mimetype": "text/x-python",
   "name": "python",
   "nbconvert_exporter": "python",
   "pygments_lexer": "ipython3",
   "version": "3.8.5"
  }
 },
 "nbformat": 4,
 "nbformat_minor": 4
}
